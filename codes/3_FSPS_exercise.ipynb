{
 "cells": [
  {
   "cell_type": "markdown",
   "metadata": {},
   "source": [
    "The overall purpose of this exercise is to understand how spectral energy distributions of galaxies vary depending on various physical conditions. \n",
    "We shall model the galaxies using the python wrapper of FSPS (http://dfm.io/python-fsps/current/ ). \n",
    "\n",
    "1.\tRead the user guide on the above website on “Modelling Stellar Populations”. Also get familiar with the 3_FSPS_manual.pdf provided with this document (Sections 2.2.1, 2.1.2, 2.2.3). \n"
   ]
  },
  {
   "cell_type": "code",
   "execution_count": null,
   "metadata": {
    "collapsed": true
   },
   "outputs": [],
   "source": [
    "%matplotlib inline\n",
    "import fsps\n",
    "import matplotlib.pyplot as plt\n",
    "\n"
   ]
  },
  {
   "cell_type": "markdown",
   "metadata": {},
   "source": [
    "First we shall generate a simple SED of a galaxy and plot it. "
   ]
  },
  {
   "cell_type": "code",
   "execution_count": null,
   "metadata": {
    "collapsed": true
   },
   "outputs": [],
   "source": [
    "sp = fsps.StellarPopulation(zcontinuous=1, sfh=0, logzsol=0.0, dust_type=2, dust2=0.2)"
   ]
  },
  {
   "cell_type": "markdown",
   "metadata": {},
   "source": [
    "1) Investigate from the FSPS manual what is the explicitly stated meaning of the parameters:\n",
    "    \n",
    "    - `zcontinuous=1`--> This means that.........\n",
    "    - `sfh=0`-->\n",
    "    - `logzsol=0.0`-->\n",
    "    - `dust_type=2`-->\n",
    "    - `dust2=0.2` -->"
   ]
  },
  {
   "cell_type": "code",
   "execution_count": null,
   "metadata": {
    "collapsed": true
   },
   "outputs": [],
   "source": []
  },
  {
   "cell_type": "markdown",
   "metadata": {},
   "source": [
    "2) Now check what parameters are defined as a default:\n",
    "    \n",
    "    - what is the IMF parameterization?\n",
    "    - what are the stellar libraraies and isochrones used?\n",
    "    - what is the gas phase metallcity?\n",
    "    - How is the Inter galactic medium (IGM) absorption handled?\n",
    "    - Is dust emission inluded?\n",
    "    - Is nebular continuum included?\n",
    "    - Are nebular emission lines included?\n"
   ]
  },
  {
   "cell_type": "code",
   "execution_count": null,
   "metadata": {
    "collapsed": true
   },
   "outputs": [],
   "source": []
  },
  {
   "cell_type": "markdown",
   "metadata": {},
   "source": [
    "3)  Plot the spectrum of the object at the specified times on the same figure (check the user guide on how to extract the spectrum at a given time). Limit the wavelength range to 900, 30000 A and make x,y axis logarithmic if necessary to increase the clarity. Use different colours as specified. Tip: Make the figure using a function, which can be easily used for all the other spectra you'll be generating today.\n",
    "\n",
    "\n",
    "\n",
    "    - 1 Myr (Navy)\n",
    "    - 10 Myr (cyan)\n",
    "    - 1 Gyr (lime green)\n",
    "    - 10 Gyr (pink)\n",
    "    - 13 Gyr (red)\n",
    "\n",
    "   "
   ]
  },
  {
   "cell_type": "code",
   "execution_count": null,
   "metadata": {
    "collapsed": true
   },
   "outputs": [],
   "source": []
  },
  {
   "cell_type": "markdown",
   "metadata": {},
   "source": [
    "4)  Compare the results with your neighbour to see if you both got the same spectrum.\n",
    "\n",
    "    \n",
    "   "
   ]
  },
  {
   "cell_type": "code",
   "execution_count": null,
   "metadata": {
    "collapsed": true
   },
   "outputs": [],
   "source": []
  },
  {
   "cell_type": "markdown",
   "metadata": {},
   "source": [
    "5) Discuss differences between the model of a galaxy you made now with a real galaxy in the Universe. \n",
    "\n"
   ]
  },
  {
   "cell_type": "code",
   "execution_count": null,
   "metadata": {
    "collapsed": true
   },
   "outputs": [],
   "source": []
  },
  {
   "cell_type": "markdown",
   "metadata": {},
   "source": [
    "Now we are ready to move into a more complicated spectrum\n",
    "\n",
    "\n",
    "6) Make a model of a galaxy with a constant SFH, Z=0.01 (use zcontinuous=1), with no dust, no nebular continnum, no nebular emission observed at a redshift of 0. Make a similar plot to 3 using same colours and compare the differences. \n",
    "\n"
   ]
  },
  {
   "cell_type": "code",
   "execution_count": null,
   "metadata": {
    "collapsed": true
   },
   "outputs": [],
   "source": []
  },
  {
   "cell_type": "markdown",
   "metadata": {
    "collapsed": true
   },
   "source": [
    "7) Use the model made in 6 and add nebular continuum and nebular emission and remake the plot. What differences do you see?\n",
    "\n"
   ]
  },
  {
   "cell_type": "code",
   "execution_count": null,
   "metadata": {
    "collapsed": true
   },
   "outputs": [],
   "source": []
  },
  {
   "cell_type": "markdown",
   "metadata": {},
   "source": [
    "8) Using the model generated in 7, change the metallacity to\n",
    "    - Z=0.002\n",
    "    - Z=0.02\n",
    "\n",
    "and note the changes in the spectra. \n",
    "\n",
    "\n"
   ]
  },
  {
   "cell_type": "code",
   "execution_count": null,
   "metadata": {
    "collapsed": true
   },
   "outputs": [],
   "source": []
  },
  {
   "cell_type": "markdown",
   "metadata": {},
   "source": [
    "9) Using the model from 7 (Z=0.02) add the following amount of dust attenuation and make a figure to compare the spectra at t=20 Myr. Increase the wavelength coverage to 100,000 A. \n",
    "    - Av=0\n",
    "    - Av =0.5\n",
    "    - Av = 1.0\n",
    "    - Av = 3.0\n",
    "\n",
    "What do you notice when the dust attenuation is added?\n",
    "\n"
   ]
  },
  {
   "cell_type": "code",
   "execution_count": null,
   "metadata": {
    "collapsed": true
   },
   "outputs": [],
   "source": []
  },
  {
   "cell_type": "markdown",
   "metadata": {},
   "source": [
    "10) Now we shall combine all of these effects. Make on 1 figure the following:\n",
    "    - Model in 7 with Z=0.002 observed at z=10\n",
    "    - Model in 7 with Z=0.002 with Av=0.5 observed at z=5\n",
    "    - Model in 7 with Z=0.02 with Av=1.0 observed at z=2\n",
    "    - Model in 3 observed at z=0\n",
    "    \n",
    "What connections could you make to `real` galaxies?\n",
    "\n",
    "\n",
    "When you have time play around with the code more and investiagte effects on the spectra from different parameters as defined in the FSPS manual. \n",
    "    "
   ]
  },
  {
   "cell_type": "code",
   "execution_count": null,
   "metadata": {
    "collapsed": true
   },
   "outputs": [],
   "source": []
  }
 ],
 "metadata": {
  "kernelspec": {
   "display_name": "Python [conda env:astroconda]",
   "language": "python",
   "name": "conda-env-astroconda-py"
  },
  "language_info": {
   "codemirror_mode": {
    "name": "ipython",
    "version": 3
   },
   "file_extension": ".py",
   "mimetype": "text/x-python",
   "name": "python",
   "nbconvert_exporter": "python",
   "pygments_lexer": "ipython3",
   "version": "3.6.3"
  }
 },
 "nbformat": 4,
 "nbformat_minor": 2
}
