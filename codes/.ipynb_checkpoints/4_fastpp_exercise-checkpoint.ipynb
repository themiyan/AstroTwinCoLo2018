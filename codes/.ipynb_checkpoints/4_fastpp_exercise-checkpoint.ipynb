{
 "cells": [
  {
   "cell_type": "markdown",
   "metadata": {},
   "source": [
    "\n",
    "\n",
    "\n",
    "We shall use the fastpp output file, combine it with the zfourge catalog and make investigate a few galaxy evolution properties.\n",
    "\n",
    "\n",
    "First load the two files and select galaxies with a `use=1` flag. "
   ]
  },
  {
   "cell_type": "code",
   "execution_count": null,
   "metadata": {
    "collapsed": true
   },
   "outputs": [],
   "source": []
  },
  {
   "cell_type": "code",
   "execution_count": null,
   "metadata": {
    "collapsed": true
   },
   "outputs": [],
   "source": []
  },
  {
   "cell_type": "markdown",
   "metadata": {},
   "source": [
    "### 1. Make a plot for log(SFR) vs log(stellar mass) from the fastpp output file. Bin the galaxies into redshift bins:\n",
    "    - 0.5<z<1.0\n",
    "    - 1.0<z<1.5\n",
    "    - 1.5<z<2.5\n",
    "    - 2.5<z<4.0\n",
    "    \n",
    "   Use `matplotlib` subplots to show all of them in 1 figure in panels and investigate how the properties vary as a function of redshift. \n",
    "   \n",
    "Use Eq: 2 and 3 from Tomczak+2016 paper to draw the sfr vs stellar mass relation on these panels for the median redshifts considered in the panels. "
   ]
  },
  {
   "cell_type": "code",
   "execution_count": null,
   "metadata": {
    "collapsed": true
   },
   "outputs": [],
   "source": []
  },
  {
   "cell_type": "raw",
   "metadata": {},
   "source": [
    "2. Similarly make SFR vs z and colour code the points in similar redshift bins. "
   ]
  },
  {
   "cell_type": "markdown",
   "metadata": {},
   "source": [
    "3. Similar to 2 make mass vs z plot. "
   ]
  },
  {
   "cell_type": "markdown",
   "metadata": {},
   "source": [
    "4. Investigate whats going on with metallcity. "
   ]
  },
  {
   "cell_type": "code",
   "execution_count": null,
   "metadata": {
    "collapsed": true
   },
   "outputs": [],
   "source": []
  },
  {
   "cell_type": "code",
   "execution_count": null,
   "metadata": {
    "collapsed": true
   },
   "outputs": [],
   "source": []
  }
 ],
 "metadata": {
  "kernelspec": {
   "display_name": "Python [conda env:astroconda]",
   "language": "python",
   "name": "conda-env-astroconda-py"
  },
  "language_info": {
   "codemirror_mode": {
    "name": "ipython",
    "version": 3
   },
   "file_extension": ".py",
   "mimetype": "text/x-python",
   "name": "python",
   "nbconvert_exporter": "python",
   "pygments_lexer": "ipython3",
   "version": "3.6.3"
  }
 },
 "nbformat": 4,
 "nbformat_minor": 2
}
